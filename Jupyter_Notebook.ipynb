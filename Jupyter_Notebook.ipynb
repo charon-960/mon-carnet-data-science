{
 "cells": [
  {
   "cell_type": "markdown",
   "metadata": {},
   "source": [
    "<center>\n",
    "    <img src=\"https://cf-courses-data.s3.us.cloud-object-storage.appdomain.cloud/IBMDeveloperSkillsNetwork-DS0105EN-SkillsNetwork/labs/Module2/images/SN_web_lightmode.png\" width=\"300\" alt=\"cognitiveclass.ai logo\">\n",
    "</center>\n"
   ]
  },
  {
   "cell_type": "markdown",
   "metadata": {},
   "source": [
    "#### Add your code below following the instructions given in the course\n"
   ]
  },
  {
   "cell_type": "markdown",
   "metadata": {},
   "source": [
    "# Introduction à la Science des Données avec Python"
   ]
  },
  {
   "cell_type": "markdown",
   "metadata": {},
   "source": [
    "## Introduction\n",
    "Ce carnet présente les concepts de base de la science des données, incluant les langages, bibliothèques, outils, expressions mathématiques et quelques exemples de code simples.\n"
   ]
  },
  {
   "cell_type": "markdown",
   "metadata": {},
   "source": [
    "## Langages de la science des données\n",
    "\n",
    "- Python  \n",
    "- R  \n",
    "- SQL  \n",
    "- Julia  \n",
    "- Scala\n"
   ]
  },
  {
   "cell_type": "markdown",
   "metadata": {},
   "source": [
    "## Bibliothèques de science des données\n",
    "\n",
    "- Pandas  \n",
    "- NumPy  \n",
    "- Matplotlib  \n",
    "- Seaborn  \n",
    "- Scikit-learn  \n",
    "- TensorFlow  \n",
    "- ggplot2 (pour R)\n"
   ]
  },
  {
   "cell_type": "markdown",
   "metadata": {},
   "source": [
    "## Outils de la science des données\n",
    "\n",
    "| Outil               | Fonction principale                         |\n",
    "|--------------------|----------------------------------------------|\n",
    "| Jupyter Notebook    | Écriture de code interactif et visualisation |\n",
    "| RStudio             | Analyse de données avec R                    |\n",
    "| VS Code             | Éditeur de code multiplateforme              |\n",
    "| Google Colab        | Notebooks Python dans le cloud               |\n",
    "| Tableau / Power BI  | Visualisation de données                     |\n"
   ]
  },
  {
   "cell_type": "markdown",
   "metadata": {},
   "source": [
    "## Exemples d'expressions arithmétiques\n",
    "\n",
    "- Addition : `4 + 5 = 9`  \n",
    "- Soustraction : `10 - 3 = 7`  \n",
    "- Multiplication : `6 * 7 = 42`  \n",
    "- Division : `20 / 4 = 5`\n"
   ]
  },
  {
   "cell_type": "code",
   "execution_count": 4,
   "metadata": {},
   "outputs": [
    {
     "name": "stdout",
     "output_type": "stream",
     "text": [
      "Multiplication : 6 * 7 = 42\n",
      "Addition : 4 + 9 = 13\n"
     ]
    }
   ],
   "source": [
    "# Multiplication et addition\n",
    "a = 6 * 7\n",
    "b = 4 + 9\n",
    "print(\"Multiplication : 6 * 7 =\", a)\n",
    "print(\"Addition : 4 + 9 =\", b)\n"
   ]
  },
  {
   "cell_type": "code",
   "execution_count": 5,
   "metadata": {},
   "outputs": [
    {
     "name": "stdout",
     "output_type": "stream",
     "text": [
      "150 minutes = 2.5 heures\n"
     ]
    }
   ],
   "source": [
    "# Conversion de minutes en heures\n",
    "minutes = 150\n",
    "heures = minutes / 60\n",
    "print(f\"{minutes} minutes = {heures} heures\")\n"
   ]
  },
  {
   "cell_type": "markdown",
   "metadata": {},
   "source": [
    "## Objectifs du carnet\n",
    "\n",
    "- Découvrir les langages utilisés en science des données  \n",
    "- Se familiariser avec les bibliothèques essentielles  \n",
    "- Utiliser des outils adaptés au travail de données  \n",
    "- Écrire des expressions et du code simple  \n",
    "- Publier un carnet sur GitHub\n"
   ]
  },
  {
   "cell_type": "markdown",
   "metadata": {},
   "source": [
    "**Auteur :** OBALADE\n"
   ]
  }
 ],
 "metadata": {
  "kernelspec": {
   "display_name": "Python 3 (ipykernel)",
   "language": "python",
   "name": "python3"
  },
  "language_info": {
   "codemirror_mode": {
    "name": "ipython",
    "version": 3
   },
   "file_extension": ".py",
   "mimetype": "text/x-python",
   "name": "python",
   "nbconvert_exporter": "python",
   "pygments_lexer": "ipython3",
   "version": "3.12.8"
  }
 },
 "nbformat": 4,
 "nbformat_minor": 4
}
